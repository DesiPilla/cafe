{
 "cells": [
  {
   "cell_type": "code",
   "execution_count": 154,
   "metadata": {},
   "outputs": [],
   "source": [
    "import os\n",
    "import cv2\n",
    "import time\n",
    "\n",
    "import random\n",
    "import numpy as np\n",
    "import pandas as pd\n",
    "import matplotlib.pyplot as plt\n",
    "\n",
    "from PIL import Image, ImageTk\n",
    "\n",
    "import tkinter as tk\n",
    "from tkinter import Label, Button, PhotoImage, Frame"
   ]
  },
  {
   "cell_type": "code",
   "execution_count": 171,
   "metadata": {},
   "outputs": [],
   "source": [
    "files = ['train_images/{}'.format(f) for f in os.listdir('./train_images')]\n",
    "friends = ['friends/{}'.format(f) for f in os.listdir('./friends')]\n",
    "random.shuffle(friends)"
   ]
  },
  {
   "cell_type": "code",
   "execution_count": 176,
   "metadata": {},
   "outputs": [
    {
     "name": "stdout",
     "output_type": "stream",
     "text": [
      "Skip\n",
      "Skip\n",
      "Skip\n",
      "Skip\n",
      "Skip\n",
      "Skip\n",
      "Sip\n",
      "Sip\n",
      "Sip\n",
      "Skip\n",
      "Sip\n",
      "Sip\n",
      "Skip\n",
      "Sip\n"
     ]
    }
   ],
   "source": [
    "class SwipingApp():\n",
    "\n",
    "    def __init__(self, files):\n",
    "        \n",
    "        # Create GUI\n",
    "        self.gui = tk.Tk(className=\"Cafe\")\n",
    "        self.gui.minsize(width=100, height=100)\n",
    "        self.headline = Label(text=\"Welcome to the Cafe!\", font=(None, 25))\n",
    "        self.headline.pack()\n",
    "\n",
    "        # Insert image\n",
    "        self.image_paths = files\n",
    "        self.sip_or_skip = []          # sip = 1, skip = 0\n",
    "        \n",
    "        path = self.image_paths[0]\n",
    "        self.image_paths = self.image_paths[1:]\n",
    "        im = Image.open(path).resize((512, 512))\n",
    "        im = ImageTk.PhotoImage(im)\n",
    "        self.panel = Label(image=im)\n",
    "        self.panel.pack()\n",
    "        \n",
    "                \n",
    "        # Add sip or skip labels\n",
    "        self.btn_frame = Frame(self.gui)\n",
    "        self.btn_frame.pack(side=tk.BOTTOM, fill=tk.BOTH, expand=True)\n",
    "        \n",
    "        self.btn_skip = Button(self.gui, text=\"Skip :(\", command=self.skip, width=25, height=5, bg='red', fg='white', font=(None, 20))\n",
    "        self.btn_sip = Button(self.gui, text=\"Sip :)\", command=self.sip, width=25, height=5, bg='green', fg='white', font=(None, 20))\n",
    "        \n",
    "        self.btn_skip.pack(in_=self.btn_frame, side=tk.LEFT)\n",
    "        self.btn_sip.pack(in_=self.btn_frame, side=tk.LEFT)\n",
    "\n",
    "        # Start GUI\n",
    "        self.gui.mainloop()\n",
    "        \n",
    "    def update_image(self):\n",
    "#         print(self.image_paths)\n",
    "        if self.image_paths:\n",
    "            path = self.image_paths[0]\n",
    "            self.image_paths = self.image_paths[1:]\n",
    "            im = Image.open(path).resize((512, 512))\n",
    "            im = ImageTk.PhotoImage(im)\n",
    "            self.panel.configure(image=im)\n",
    "            self.panel.image = im\n",
    "        else:\n",
    "            self.headline.destroy()\n",
    "            self.panel.destroy()\n",
    "            self.end = Label(text=\"There are no more images.\\nThanks for sipping!\", font=(None, 25), height=10)\n",
    "            self.end.pack()\n",
    "#             self.btn_frame.destroy()\n",
    "            self.btn_skip[\"state\"] = \"disabled\"\n",
    "            self.btn_sip[\"state\"] = \"disabled\"\n",
    "#             self.gui.destroy()\n",
    "        \n",
    "        return\n",
    "        \n",
    "    def skip(self):\n",
    "        print(\"Skip\")\n",
    "        self.sip_or_skip.append(0)\n",
    "        self.update_image()\n",
    "        \n",
    "    def sip(self):\n",
    "        print(\"Sip\")\n",
    "        self.sip_or_skip.append(1)\n",
    "        self.update_image()\n",
    "        \n",
    "        \n",
    "        \n",
    "app = SwipingApp(files[:5] + friends)"
   ]
  },
  {
   "cell_type": "code",
   "execution_count": 146,
   "metadata": {},
   "outputs": [
    {
     "data": {
      "text/plain": [
       "[]"
      ]
     },
     "execution_count": 146,
     "metadata": {},
     "output_type": "execute_result"
    }
   ],
   "source": [
    "app.sip_or_skip"
   ]
  },
  {
   "cell_type": "code",
   "execution_count": 170,
   "metadata": {},
   "outputs": [
    {
     "data": {
      "text/plain": [
       "['friends/fel2.jpg',\n",
       " 'friends/jul1.jpg',\n",
       " 'friends/fel3.jpg',\n",
       " 'friends/laur2.jpg',\n",
       " 'friends/laur3.jpg',\n",
       " 'friends/laur1.jpg',\n",
       " 'friends/fel1.jpg',\n",
       " 'friends/jul3.jpg',\n",
       " 'friends/jul2.jpg']"
      ]
     },
     "execution_count": 170,
     "metadata": {},
     "output_type": "execute_result"
    }
   ],
   "source": [
    "import random\n",
    "\n",
    "friends"
   ]
  },
  {
   "cell_type": "code",
   "execution_count": null,
   "metadata": {},
   "outputs": [],
   "source": []
  },
  {
   "cell_type": "code",
   "execution_count": null,
   "metadata": {},
   "outputs": [],
   "source": []
  },
  {
   "cell_type": "code",
   "execution_count": null,
   "metadata": {},
   "outputs": [],
   "source": []
  }
 ],
 "metadata": {
  "kernelspec": {
   "display_name": "Python 3",
   "language": "python",
   "name": "python3"
  },
  "language_info": {
   "codemirror_mode": {
    "name": "ipython",
    "version": 3
   },
   "file_extension": ".py",
   "mimetype": "text/x-python",
   "name": "python",
   "nbconvert_exporter": "python",
   "pygments_lexer": "ipython3",
   "version": "3.8.3"
  }
 },
 "nbformat": 4,
 "nbformat_minor": 4
}
